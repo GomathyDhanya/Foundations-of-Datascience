{
  "nbformat": 4,
  "nbformat_minor": 0,
  "metadata": {
    "colab": {
      "provenance": [],
      "authorship_tag": "ABX9TyO4ZL5HIguJsWokTXxA42iB",
      "include_colab_link": true
    },
    "kernelspec": {
      "name": "python3",
      "display_name": "Python 3"
    },
    "language_info": {
      "name": "python"
    }
  },
  "cells": [
    {
      "cell_type": "markdown",
      "metadata": {
        "id": "view-in-github",
        "colab_type": "text"
      },
      "source": [
        "<a href=\"https://colab.research.google.com/github/GomathyDhanya/Foundations-of-Datascience/blob/main/ImportantWords.ipynb\" target=\"_parent\"><img src=\"https://colab.research.google.com/assets/colab-badge.svg\" alt=\"Open In Colab\"/></a>"
      ]
    },
    {
      "cell_type": "markdown",
      "source": [
        "**UCS1625 - Foundations of Data Science** \n",
        "\n",
        "**Assignment 1**\n",
        "\n",
        "Gomathy Dhanya S\n",
        "205001041 \n",
        "CSE-A\n",
        "\n"
      ],
      "metadata": {
        "id": "I-DmNBEglaAB"
      }
    },
    {
      "cell_type": "markdown",
      "source": [
        "1. Develop a Python program using NumPy to initialize a document matrix such that each row represents a document and the columns represent the important words related to the documents. Update the entries of the document with the frequency of the terms in the document. Find the top K most frequently used words in all the documents. [CO1, K3, PI: 2.1.3, 13.3.1] "
      ],
      "metadata": {
        "id": "veRMA6GTl-Eg"
      }
    },
    {
      "cell_type": "code",
      "execution_count": null,
      "metadata": {
        "id": "VP3s4zbxFe-C"
      },
      "outputs": [],
      "source": [
        "import numpy as np\n",
        "from collections import defaultdict\n",
        "import math"
      ]
    },
    {
      "cell_type": "code",
      "source": [
        "num_docs=int(input(\"Enter number of Documents : \"))"
      ],
      "metadata": {
        "colab": {
          "base_uri": "https://localhost:8080/"
        },
        "id": "j_-NBPXjF6No",
        "outputId": "b546cce3-3876-45a9-c866-8e4578bb27cd"
      },
      "execution_count": null,
      "outputs": [
        {
          "name": "stdout",
          "output_type": "stream",
          "text": [
            "Enter number of Documents : 4\n"
          ]
        }
      ]
    },
    {
      "cell_type": "code",
      "source": [
        "\n",
        "#finding the overall frequency of the words and number of words\n",
        "\n",
        "wordsdict=defaultdict(lambda:0)\n",
        "\n",
        "for i in range(num_docs):\n",
        "  with open(str(i+1)+\".txt\") as f:\n",
        "    words=f.read().split()\n",
        "    for word in words:\n",
        "      wordsdict[word.upper()]+=1\n"
      ],
      "metadata": {
        "id": "vUNJPt3UGkkR"
      },
      "execution_count": null,
      "outputs": []
    },
    {
      "cell_type": "code",
      "source": [
        "num_words=len(wordsdict)\n",
        "num_words"
      ],
      "metadata": {
        "colab": {
          "base_uri": "https://localhost:8080/"
        },
        "id": "-8YATTilRD4D",
        "outputId": "c0c89ba0-0a7c-471b-ceff-b71146284b46"
      },
      "execution_count": null,
      "outputs": [
        {
          "output_type": "execute_result",
          "data": {
            "text/plain": [
              "255"
            ]
          },
          "metadata": {},
          "execution_count": 114
        }
      ]
    },
    {
      "cell_type": "code",
      "source": [
        "#Since the numpy multidimentional array will be represented by numerical indices\n",
        "#Mapped words to unique numbers based on alphabetical order\n",
        "\n",
        "word2num={}\n",
        "num2word={}\n",
        "i=0\n",
        "\n",
        "for word in sorted(wordsdict.keys()):\n",
        "  word2num[word]=i\n",
        "  num2word[i]=word\n",
        "  i+=1"
      ],
      "metadata": {
        "id": "bZYKxHxYTPQk"
      },
      "execution_count": null,
      "outputs": []
    },
    {
      "cell_type": "code",
      "source": [
        "print(word2num)"
      ],
      "metadata": {
        "colab": {
          "base_uri": "https://localhost:8080/"
        },
        "id": "D9oQotr6V-C5",
        "outputId": "7555aee1-1773-4bd7-b571-6f1be8b816b4"
      },
      "execution_count": null,
      "outputs": [
        {
          "output_type": "stream",
          "name": "stdout",
          "text": [
            "{'A': 0, 'ACTUALLY': 1, 'ADAPT': 2, 'AFTER': 3, 'AGES': 4, 'AI': 5, 'ALL': 6, 'ALONG': 7, 'AND': 8, 'ANNARASUMANARA': 9, 'ANYONE': 10, 'APPRECIATES': 11, 'ART': 12, 'ARTIST': 13, 'ARTWORK': 14, 'AS': 15, 'ASPIRATIONS': 16, 'ASSISTS': 17, 'AT': 18, 'AWKWARD': 19, 'BALANCE': 20, 'BARAKAMON': 21, 'BEAUTIFUL': 22, 'BEAUTIFULLY': 23, 'BECOMES': 24, 'BECOMING': 25, 'BELONGING': 26, 'BLEND': 27, 'BOTH': 28, 'BRIGHT': 29, 'BUT': 30, 'BY': 31, 'CALLIGRAPHER': 32, 'CALLIGRAPHY': 33, 'CAPTURE': 34, 'CAPTURES': 35, 'CAST': 36, 'CHARACTER': 37, 'CHARACTERS': 38, 'CHARMING': 39, 'CHILDHOOD': 40, 'CHIYO': 41, 'CLASS': 42, 'CLASSMATE': 43, 'COLOR': 44, 'COLORFUL': 45, 'COMEDY': 46, 'COMING-OF-AGE': 47, 'COMMUNITY': 48, 'CONFESSES': 49, 'CONTEMPLATIVE': 50, 'CONVENTIONS': 51, 'CORPORATION': 52, 'CREATING': 53, 'CREATIVITY': 54, 'CREATORS': 55, 'CRITIC': 56, 'CRITICIZED': 57, 'CRUSH': 58, 'DAYS': 59, 'DEEPLY': 60, 'DELIGHT': 61, 'DELIGHTFUL': 62, 'DESIGNS': 63, 'DESPERATION': 64, 'DETAILS': 65, 'DISCOVERS': 66, 'DISTINCT': 67, 'DREAMLIKE': 68, 'DREAMS': 69, 'ECCENTRIC': 70, 'EMBARKS': 71, 'EMOTIONAL': 72, 'ENCOUNTERS': 73, 'ESTRANGED': 74, 'EUL': 75, 'EVOCATIVE': 76, 'EXCHANGE': 77, 'EXPECTATIONS': 78, 'EXPLORATION': 79, 'EXPRESSIVE': 80, 'FACE': 81, 'FEELINGS': 82, 'FELLOW': 83, 'FIND': 84, 'FINDING': 85, 'FLEETING': 86, 'FOLLOWING': 87, 'FOLLOWS': 88, 'FOR': 89, 'FRIEND': 90, 'FRIENDS': 91, 'FUN': 92, 'GEKKAN': 93, 'GENRE': 94, 'GIRL': 95, 'GOOD': 96, 'GROUP': 97, 'HA': 98, 'HANDA': 99, 'HAPPINESS': 100, 'HARSH': 101, 'HAS': 102, 'HAUNTING': 103, 'HE': 104, 'HEARTBREAKING': 105, 'HEARTWARMING': 106, 'HELP': 107, 'HELPS': 108, 'HER': 109, 'HIGH': 110, 'HILARIOUS': 111, 'HIM': 112, 'HIS': 113, 'HOWEVER': 114, 'IDENTITY': 115, 'ILKWON': 116, 'ILLUSTRATED': 117, 'IN': 118, 'INTRICATE': 119, 'IS': 120, 'ISLAND': 121, 'ISLANDERS': 122, 'IZUMI': 123, 'JOURNEY': 124, 'JOYS': 125, 'KNOWN': 126, 'KUSUNOKI': 127, 'LAID-BACK': 128, 'LARGE': 129, 'LEARN': 130, 'LEAVE': 131, 'LEE': 132, 'LEFT': 133, 'LIFE': 134, 'LIFESTYLE': 135, 'LIVE': 136, 'LIVELY': 137, 'LIVING': 138, 'LOVES': 139, 'MAGIC': 140, 'MAGICIAN': 141, 'MAKE': 142, 'MAN': 143, 'MANGA': 144, 'MASTERFUL': 145, 'MEANING': 146, 'MELANCHOLY': 147, 'MIYAKI': 148, 'MOMENT': 149, 'MONEY': 150, 'MORTALITY': 151, 'MOST': 152, 'MOVED': 153, 'MUST': 154, 'MUST-READ': 155, 'MUTED': 156, 'MYSTERIOUS': 157, 'NAMED': 158, 'NATURE': 159, 'NOZAKI': 160, \"NOZAKI'S\": 161, 'NOZAKI-KUN': 162, 'OF': 163, 'ON': 164, 'ONE': 165, 'ONLY': 166, 'OR': 167, 'OVERALL': 168, 'OWN': 169, 'PALETTE': 170, 'PART': 171, 'PASSION': 172, 'PATH': 173, 'PERFECTLY': 174, 'PERSONALITIES': 175, 'PLACES': 176, 'POIGNANT': 177, 'POKING': 178, 'POPULAR': 179, 'POVERTY': 180, 'POWER': 181, 'PUNCHING': 182, 'QUALITY': 183, 'QUIRKY': 184, 'READERS': 185, 'REALITIES': 186, 'RECONNECTING': 187, 'REDISCOVER': 188, 'REGRET': 189, 'REMAINING': 190, 'REMOTE': 191, 'ROMANCE': 192, 'SAKIKO': 193, 'SAKURA': 194, 'SATIRE': 195, 'SATSUKI': 196, 'SCHOOL': 197, 'SEISHUU': 198, 'SELLS': 199, 'SENSE': 200, 'SENT': 201, 'SERIES': 202, 'SHE': 203, 'SHOUJO': 204, 'SIMPLE': 205, 'SMILE': 206, 'SOCIALLY': 207, 'SOCIETAL': 208, 'SOLACE': 209, 'STORY': 210, 'STORYTELLING': 211, 'STRUGGLING': 212, 'STUDENT': 213, 'STUNNING': 214, 'SUGARU': 215, 'SUM': 216, 'SURE': 217, 'TALE': 218, 'TALENTED': 219, 'TEACHES': 220, 'TEAM': 221, 'TEENAGE': 222, 'THAT': 223, 'THE': 224, 'THEIR': 225, 'THERE': 226, 'THREE': 227, 'TIME': 228, 'TO': 229, 'TONE': 230, 'TOUCHING': 231, 'TRANSFORMATIVE': 232, 'TROPES': 233, 'TRUE': 234, 'TSUBAKI': 235, 'UMETAROU': 236, 'UNCONVENTIONAL': 237, 'UNEXPECTED': 238, 'UPLIFTING': 239, 'WAY': 240, 'WEBTOON': 241, 'WHEN': 242, 'WHIMSICAL': 243, 'WHIMSY': 244, 'WHO': 245, 'WILL': 246, 'WITH': 247, 'WONDER': 248, 'WORK': 249, 'YEARS': 250, 'YOSHINO': 251, 'YOUNG': 252, 'YUMENO': 253, 'YUN': 254}\n"
          ]
        }
      ]
    },
    {
      "cell_type": "code",
      "source": [
        "#creating the Document term matric based on ordinary frequency, the number of\n",
        "#times a word occurs in a document\n",
        "\n",
        "\n",
        "doc_term_matrix = np.zeros((num_docs, num_words))\n",
        "\n",
        "for i in range(num_docs):\n",
        "  with open(str(i+1)+\".txt\") as f:\n",
        "    words=f.read().split()\n",
        "    for word in words:\n",
        "      doc_term_matrix[i,word2num[word.upper()]]+=1"
      ],
      "metadata": {
        "id": "npSvKF93UoPg"
      },
      "execution_count": null,
      "outputs": []
    },
    {
      "cell_type": "code",
      "source": [
        "doc_term_matrix"
      ],
      "metadata": {
        "colab": {
          "base_uri": "https://localhost:8080/"
        },
        "id": "RL2bdOzKVpTm",
        "outputId": "ecac5d52-a198-4418-f81b-d36dde69c245"
      },
      "execution_count": null,
      "outputs": [
        {
          "output_type": "execute_result",
          "data": {
            "text/plain": [
              "array([[8., 0., 0., ..., 0., 0., 1.],\n",
              "       [9., 0., 0., ..., 1., 0., 0.],\n",
              "       [8., 0., 1., ..., 0., 0., 0.],\n",
              "       [6., 1., 0., ..., 0., 1., 0.]])"
            ]
          },
          "metadata": {},
          "execution_count": 118
        }
      ]
    },
    {
      "cell_type": "code",
      "source": [
        "#finding the k most frequent words. Ordered from Most to least from left to right.\n",
        "#this order is based on ordinary frequency\n",
        "\n",
        "k=int(input(\"Enter k :\"))\n",
        "\n",
        "for i in range(num_docs):\n",
        "  top_word_indices = np.argsort(doc_term_matrix[i])[-k:]\n",
        "  print(\"Document \",i+1,\" : \",end=\" \")\n",
        "  for wordind in top_word_indices[::-1]:\n",
        "    print(num2word[wordind],end=\" \")\n",
        "  print()\n",
        "\n",
        "  "
      ],
      "metadata": {
        "colab": {
          "base_uri": "https://localhost:8080/"
        },
        "id": "h8H06HiWWbjs",
        "outputId": "262cb687-cea0-4088-cc27-a15584510403"
      },
      "execution_count": null,
      "outputs": [
        {
          "output_type": "stream",
          "name": "stdout",
          "text": [
            "Enter k :10\n",
            "Document  1  :  THE A OF IS AND HER WHO COMING-OF-AGE WEBTOON MAGICIAN \n",
            "Document  2  :  OF A THE AND IS HAPPINESS HIS WITH IN TO \n",
            "Document  3  :  A THE AND IS OF TO MANGA WHO HIS THAT \n",
            "Document  4  :  OF AND MANGA THE A IS SHOUJO THAT HILARIOUS GEKKAN \n"
          ]
        }
      ]
    },
    {
      "cell_type": "code",
      "source": [
        "#creating a document term matrix with TF-IDF \n",
        "\n",
        "\n",
        "doc_term_matrix_tfidf=np.zeros((num_docs, num_words))\n",
        "\n",
        "for i in range(len(doc_term_matrix)):\n",
        "  for j in range(len(doc_term_matrix[0])):\n",
        "    tf=doc_term_matrix[i][j]/sum(doc_term_matrix[i])\n",
        "    idf = math.log(num_docs / len(doc_term_matrix[:, j].nonzero()[0]), 2)\n",
        "    doc_term_matrix_tfidf[i][j]=tf*idf\n",
        "\n",
        "\n",
        "    \n",
        "\n"
      ],
      "metadata": {
        "id": "czeOGHsgYPmk"
      },
      "execution_count": null,
      "outputs": []
    },
    {
      "cell_type": "code",
      "source": [
        "#finding the k most frequent words based on tf-idf\n",
        "\n",
        "\n",
        "for i in range(num_docs):\n",
        "  top_word_indices = np.argsort(doc_term_matrix_tfidf[i])[-k:]\n",
        "  print(\"Document \",i+1,\" : \",end=\" \")\n",
        "  for wordind in top_word_indices[::-1]:\n",
        "    print(num2word[wordind],end=\" \")\n",
        "  print()"
      ],
      "metadata": {
        "colab": {
          "base_uri": "https://localhost:8080/"
        },
        "id": "WEric3xWdU1g",
        "outputId": "7de6cc1e-86e7-43cb-a8f0-e5f3032c45fd"
      },
      "execution_count": null,
      "outputs": [
        {
          "output_type": "stream",
          "name": "stdout",
          "text": [
            "Document  1  :  HER ANNARASUMANARA COMING-OF-AGE DREAMS MAGICIAN WEBTOON ARTWORK HA GOOD SOCIETAL \n",
            "Document  2  :  HAPPINESS THREE DAYS KUSUNOKI REMAINING MIYAKI BOTH PLACES EMBARKS ONLY \n",
            "Document  3  :  ISLANDERS YOSHINO BARAKAMON LIVING REDISCOVER THERE THEIR JOYS REMOTE LAID-BACK \n",
            "Document  4  :  SHOUJO CHIYO NOZAKI-KUN TSUBAKI GEKKAN MANGA CONFESSES CRUSH POKING POPULAR \n"
          ]
        }
      ]
    },
    {
      "cell_type": "code",
      "source": [],
      "metadata": {
        "id": "sb2C1eMMfpZC"
      },
      "execution_count": null,
      "outputs": []
    },
    {
      "cell_type": "markdown",
      "source": [
        "**the following are the documents**\n",
        "\n",
        "**note that the punctuations have been removed**"
      ],
      "metadata": {
        "id": "sZRiPG6CouYp"
      }
    },
    {
      "cell_type": "markdown",
      "source": [
        "**1.txt**\n",
        "\n",
        "Annarasumanara is a beautifully illustrated coming-of-age webtoon by Ilkwon Ha The story follows a teenage girl named Yun Ai who dreams of becoming a magician but is struggling to balance her aspirations with the harsh realities of poverty and societal expectations Along the way she encounters a mysterious magician named Lee Eul who teaches her the true meaning of magic and helps her find her own path in life The webtoon is a touching exploration of identity class and the transformative power of following one dreams The artwork is stunning with intricate details and a dreamlike quality that perfectly captures the whimsy and wonder of the story Overall Annarasumanara is a must-read for anyone who loves a good coming-of-age tale or appreciates beautiful artwork"
      ],
      "metadata": {
        "id": "X145Q18ooJby"
      }
    },
    {
      "cell_type": "markdown",
      "source": [
        "**2.txt**\n",
        "\n",
        "Three Days of Happiness is a poignant and heartbreaking manga by Sugaru Miyaki The story follows a young man named Kusunoki who in a moment of desperation sells the remaining years of his life to a mysterious corporation in exchange for a large sum of money With only three days left to live Kusunoki embarks on a journey to make the most of his remaining time reconnecting with his estranged childhood friend and finding solace in unexpected places The manga is a deeply emotional exploration of mortality regret and the fleeting nature of happiness Miyaki art is both beautiful and haunting with a muted color palette and evocative character designs that perfectly capture the melancholy tone of the story Overall Three Days of Happiness is a masterful work of storytelling that will leave readers both moved and contemplative"
      ],
      "metadata": {
        "id": "DJkcqHoVoXN9"
      }
    },
    {
      "cell_type": "markdown",
      "source": [
        "**3.txt**\n",
        "\n",
        "Barakamon is a heartwarming and hilarious manga series by Satsuki Yoshino The story follows a talented but socially awkward calligrapher named Seishuu Handa who is sent to a remote island after punching a critic who criticized his work There he must learn to adapt to the laid-back and unconventional lifestyle of the islanders who help him rediscover his passion for calligraphy and find a sense of belonging The manga is a delightful exploration of creativity community and the joys of simple living Yoshino art is bright and expressive with whimsical character designs that perfectly capture the quirky personalities of the islanders Overall Barakamon is a charming and uplifting manga that is sure to leave readers with a smile on their face"
      ],
      "metadata": {
        "id": "wHMLW19Koeql"
      }
    },
    {
      "cell_type": "markdown",
      "source": [
        "**4.txt**\n",
        "\n",
        "Gekkan Shoujo Nozaki-kun is a hilarious and charming manga series by Izumi Tsubaki The story follows high school student Chiyo Sakura who has a crush on her classmate Umetarou Nozaki However when she confesses her feelings to him she discovers that he is actually a popular shoujo manga artist known as Sakiko Yumeno With the help of Nozaki's eccentric group of friends and fellow manga creators Chiyo becomes a part of his team and assists him in creating his manga series The manga is a delightful blend of romance comedy and satire poking fun at the tropes and conventions of the shoujo manga genre Tsubaki art is expressive and lively with distinct character designs that perfectly capture the personalities of the colorful cast of characters Overall Gekkan Shoujo Nozaki-kun is a hilarious and heartwarming manga that is sure to delight readers of all ages"
      ],
      "metadata": {
        "id": "k6b3NA79olMR"
      }
    },
    {
      "cell_type": "code",
      "source": [],
      "metadata": {
        "id": "9TlJfTRioOCx"
      },
      "execution_count": null,
      "outputs": []
    }
  ]
}